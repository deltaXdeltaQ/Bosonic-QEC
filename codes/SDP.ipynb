{
 "cells": [
  {
   "cell_type": "code",
   "execution_count": 1,
   "metadata": {},
   "outputs": [],
   "source": [
    "import cvxpy as cp\n",
    "import numpy as np"
   ]
  },
  {
   "cell_type": "markdown",
   "metadata": {},
   "source": [
    "$$\\begin{array}{cl}{\\operatorname{minimize}} & {\\operatorname{tr}(C X)} \\\\ {\\text { subject to }} & {\\operatorname{tr}\\left(A_{i} X\\right)=b_{i}, \\quad i=1, \\ldots, p} \\\\ {} & {X \\geq 0}\\end{array}$$"
   ]
  },
  {
   "cell_type": "code",
   "execution_count": 12,
   "metadata": {},
   "outputs": [],
   "source": [
    "# Generate a random SDP.\n",
    "n = 3\n",
    "p = 3\n",
    "np.random.seed(1)\n",
    "C = np.random.randn(n, n)\n",
    "A = []\n",
    "b = []\n",
    "for i in range(p):\n",
    "    A.append(np.random.randn(n, n))\n",
    "    b.append(np.random.randn())"
   ]
  },
  {
   "cell_type": "code",
   "execution_count": 13,
   "metadata": {},
   "outputs": [
    {
     "data": {
      "text/plain": [
       "-inf"
      ]
     },
     "execution_count": 13,
     "metadata": {},
     "output_type": "execute_result"
    }
   ],
   "source": [
    "# Define and solve the CVXPY problem.\n",
    "# Create a symmetric matrix variable.\n",
    "X = cp.Variable((n,n), complex=True)\n",
    "# The operator >> denotes matrix inequality.\n",
    "constraints = [X >> 0]\n",
    "constraints += [\n",
    "    cp.trace(A[i]@X) == b[i] for i in range(p)\n",
    "]\n",
    "prob = cp.Problem(cp.Minimize(cp.real(cp.trace(C@X))),\n",
    "                  constraints)\n",
    "prob.solve()"
   ]
  },
  {
   "cell_type": "code",
   "execution_count": 14,
   "metadata": {},
   "outputs": [
    {
     "name": "stdout",
     "output_type": "stream",
     "text": [
      "The optimal value is -inf\n",
      "A solution X is\n",
      "None\n"
     ]
    }
   ],
   "source": [
    "# Print result.\n",
    "print(\"The optimal value is\", prob.value)\n",
    "print(\"A solution X is\")\n",
    "print(X.value)"
   ]
  },
  {
   "cell_type": "code",
   "execution_count": null,
   "metadata": {},
   "outputs": [],
   "source": []
  }
 ],
 "metadata": {
  "kernelspec": {
   "display_name": "Python 3",
   "language": "python",
   "name": "python3"
  },
  "language_info": {
   "codemirror_mode": {
    "name": "ipython",
    "version": 3
   },
   "file_extension": ".py",
   "mimetype": "text/x-python",
   "name": "python",
   "nbconvert_exporter": "python",
   "pygments_lexer": "ipython3",
   "version": "3.7.3"
  }
 },
 "nbformat": 4,
 "nbformat_minor": 2
}
