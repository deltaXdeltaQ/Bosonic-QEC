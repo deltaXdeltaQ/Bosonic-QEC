{
 "cells": [
  {
   "cell_type": "code",
   "execution_count": 1,
   "metadata": {},
   "outputs": [],
   "source": [
    "import cvxpy as cp\n",
    "import numpy as np"
   ]
  },
  {
   "cell_type": "code",
   "execution_count": 65,
   "metadata": {},
   "outputs": [
    {
     "name": "stdout",
     "output_type": "stream",
     "text": [
      "(64, 1)\n",
      "64\n"
     ]
    }
   ],
   "source": [
    "# Define some basic matrices\n",
    "sigma_x = np.matrix([[0,1],[1,0]])\n",
    "sigma_y = np.matrix([[0,1j],[-1j,0]])\n",
    "sigma_z = np.matrix([[1,0],[0,-1]])\n",
    "sigma_0 = np.matrix([[1,0],[0,1]])\n",
    "identity = np.matrix([[1,0],[0,1]])\n",
    "\n",
    "pauli_list = [sigma_0, sigma_x, sigma_y, sigma_z]\n",
    "logical_basis_list = [np.kron(np.kron(s1, s2), s3) for s1 in pauli_list for s2 in pauli_list for s3 in pauli_list]\n",
    "\n",
    "Bs_0 = np.matrix([[1],[0]])\n",
    "Bs_1 = np.matrix([[0],[1]])\n",
    "Ls_0 = np.kron(np.kron(Bs_0, Bs_0), Bs_0)\n",
    "Ls_1 = np.kron(np.kron(Bs_1, Bs_1), Bs_1)\n",
    "\n",
    "\n",
    "\n",
    "rho_vector = 0.5*(np.kron(Ls_0, Ls_0) + np.kron(Ls_1, Ls_1))\n",
    "print(rho_vector.shape)\n",
    "print(len(logical_basis_list))\n"
   ]
  },
  {
   "cell_type": "code",
   "execution_count": 66,
   "metadata": {},
   "outputs": [],
   "source": [
    "# Define errors\n",
    "p = 0.1\n",
    "E0 = np.sqrt(1-3*p)*np.kron(np.kron(identity,identity), identity)\n",
    "E1 = np.sqrt(p)*np.kron(np.kron(sigma_x,identity), identity)\n",
    "E2 = np.sqrt(p)*np.kron(np.kron(identity,sigma_x), identity)\n",
    "E3 = np.sqrt(p)*np.kron(np.kron(identity,identity), sigma_x)\n",
    "Error_list = [E0, E1, E2, E3]\n",
    "\n",
    "C_epsilon = sum([np.kron(Ei, np.matrix(np.identity(2**3)))*rho_vector*np.transpose(rho_vector)*np.kron(Ei, np.matrix(np.identity(2**3))) for Ei in Error_list])\n",
    "# Logic state"
   ]
  },
  {
   "cell_type": "code",
   "execution_count": 58,
   "metadata": {},
   "outputs": [
    {
     "data": {
      "text/plain": [
       "(64, 64)"
      ]
     },
     "execution_count": 58,
     "metadata": {},
     "output_type": "execute_result"
    }
   ],
   "source": []
  },
  {
   "cell_type": "code",
   "execution_count": 70,
   "metadata": {},
   "outputs": [
    {
     "name": "stdout",
     "output_type": "stream",
     "text": [
      "4032\n"
     ]
    }
   ],
   "source": [
    "# Set the SDP parameters    \n",
    "C = np.matrix(np.identity(64))/8\n",
    "A = []\n",
    "b = []\n",
    "for i in range(64):\n",
    "    for j in range(1,64):\n",
    "        A.append(np.kron(logical_basis_list[i], logical_basis_list[j]))\n",
    "        b.append(-np.trace(np.kron(logical_basis_list[i], logical_basis_list[j])*C_epsilon))\n",
    "        \n",
    "p = len(b)  \n",
    "n = 64\n",
    "print(p)"
   ]
  },
  {
   "cell_type": "code",
   "execution_count": 53,
   "metadata": {},
   "outputs": [
    {
     "ename": "TypeError",
     "evalue": "'float' object cannot be interpreted as an integer",
     "output_type": "error",
     "traceback": [
      "\u001b[0;31m---------------------------------------------------------------------------\u001b[0m",
      "\u001b[0;31mTypeError\u001b[0m                                 Traceback (most recent call last)",
      "\u001b[0;32m<ipython-input-53-19fc3e358bc1>\u001b[0m in \u001b[0;36m<module>\u001b[0;34m\u001b[0m\n\u001b[1;32m      5\u001b[0m \u001b[0mconstraints\u001b[0m \u001b[0;34m=\u001b[0m \u001b[0;34m[\u001b[0m\u001b[0mX\u001b[0m \u001b[0;34m>>\u001b[0m \u001b[0;36m0\u001b[0m\u001b[0;34m]\u001b[0m\u001b[0;34m\u001b[0m\u001b[0;34m\u001b[0m\u001b[0m\n\u001b[1;32m      6\u001b[0m constraints += [\n\u001b[0;32m----> 7\u001b[0;31m     \u001b[0mcp\u001b[0m\u001b[0;34m.\u001b[0m\u001b[0mtrace\u001b[0m\u001b[0;34m(\u001b[0m\u001b[0mA\u001b[0m\u001b[0;34m[\u001b[0m\u001b[0mi\u001b[0m\u001b[0;34m]\u001b[0m\u001b[0;34m@\u001b[0m\u001b[0mX\u001b[0m\u001b[0;34m)\u001b[0m \u001b[0;34m==\u001b[0m \u001b[0mb\u001b[0m\u001b[0;34m[\u001b[0m\u001b[0mi\u001b[0m\u001b[0;34m]\u001b[0m \u001b[0;32mfor\u001b[0m \u001b[0mi\u001b[0m \u001b[0;32min\u001b[0m \u001b[0mrange\u001b[0m\u001b[0;34m(\u001b[0m\u001b[0mp\u001b[0m\u001b[0;34m)\u001b[0m\u001b[0;34m\u001b[0m\u001b[0;34m\u001b[0m\u001b[0m\n\u001b[0m\u001b[1;32m      8\u001b[0m ]\n\u001b[1;32m      9\u001b[0m prob = cp.Problem(cp.Minimize(cp.real(cp.trace(C@X))),\n",
      "\u001b[0;31mTypeError\u001b[0m: 'float' object cannot be interpreted as an integer"
     ]
    }
   ],
   "source": [
    "# Define and solve the CVXPY problem.\n",
    "# Create a symmetric matrix variable.\n",
    "X = cp.Variable((64,64), complex=True)\n",
    "# The operator >> denotes matrix inequality.\n",
    "constraints = [X >> 0]\n",
    "constraints += [\n",
    "    cp.trace(A[i]@X) == b[i] for i in range(p)\n",
    "]\n",
    "prob = cp.Problem(cp.Minimize(cp.real(cp.trace(C@X))),\n",
    "                  constraints)\n",
    "prob.solve()"
   ]
  },
  {
   "cell_type": "code",
   "execution_count": 42,
   "metadata": {},
   "outputs": [
    {
     "name": "stdout",
     "output_type": "stream",
     "text": [
      "The optimal value is 2.1989601690083865e-22\n",
      "A solution X is\n",
      "(1.7591681352067107e-21+0j)\n"
     ]
    }
   ],
   "source": [
    "# Print result.\n",
    "print(\"The optimal value is\", prob.value)\n",
    "print(\"A solution X is\")\n",
    "print(np.trace(X.value))"
   ]
  },
  {
   "cell_type": "code",
   "execution_count": 68,
   "metadata": {},
   "outputs": [
    {
     "data": {
      "text/plain": [
       "63"
      ]
     },
     "execution_count": 68,
     "metadata": {},
     "output_type": "execute_result"
    }
   ],
   "source": [
    "i"
   ]
  },
  {
   "cell_type": "code",
   "execution_count": null,
   "metadata": {},
   "outputs": [],
   "source": []
  }
 ],
 "metadata": {
  "kernelspec": {
   "display_name": "Python 3",
   "language": "python",
   "name": "python3"
  },
  "language_info": {
   "codemirror_mode": {
    "name": "ipython",
    "version": 3
   },
   "file_extension": ".py",
   "mimetype": "text/x-python",
   "name": "python",
   "nbconvert_exporter": "python",
   "pygments_lexer": "ipython3",
   "version": "3.7.3"
  }
 },
 "nbformat": 4,
 "nbformat_minor": 2
}
